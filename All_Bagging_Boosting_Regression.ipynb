{
 "cells": [
  {
   "cell_type": "markdown",
   "id": "abfbc17a",
   "metadata": {},
   "source": [
    "## Here we are trying to perform all the bagging and boosting regression technique on top of data science salaries dataset"
   ]
  },
  {
   "cell_type": "code",
   "execution_count": 1,
   "id": "c56a90ab",
   "metadata": {},
   "outputs": [],
   "source": [
    "import pandas as pd\n",
    "import numpy as np\n",
    "import matplotlib.pyplot as plt"
   ]
  },
  {
   "cell_type": "code",
   "execution_count": 2,
   "id": "1ee3cf7d",
   "metadata": {},
   "outputs": [],
   "source": [
    "df=pd.read_csv('ds_salaries.csv')"
   ]
  },
  {
   "cell_type": "code",
   "execution_count": 3,
   "id": "37753176",
   "metadata": {},
   "outputs": [
    {
     "data": {
      "text/html": [
       "<div>\n",
       "<style scoped>\n",
       "    .dataframe tbody tr th:only-of-type {\n",
       "        vertical-align: middle;\n",
       "    }\n",
       "\n",
       "    .dataframe tbody tr th {\n",
       "        vertical-align: top;\n",
       "    }\n",
       "\n",
       "    .dataframe thead th {\n",
       "        text-align: right;\n",
       "    }\n",
       "</style>\n",
       "<table border=\"1\" class=\"dataframe\">\n",
       "  <thead>\n",
       "    <tr style=\"text-align: right;\">\n",
       "      <th></th>\n",
       "      <th>work_year</th>\n",
       "      <th>experience_level</th>\n",
       "      <th>employment_type</th>\n",
       "      <th>job_title</th>\n",
       "      <th>salary</th>\n",
       "      <th>salary_currency</th>\n",
       "      <th>salary_in_usd</th>\n",
       "      <th>employee_residence</th>\n",
       "      <th>remote_ratio</th>\n",
       "      <th>company_location</th>\n",
       "      <th>company_size</th>\n",
       "    </tr>\n",
       "  </thead>\n",
       "  <tbody>\n",
       "    <tr>\n",
       "      <th>0</th>\n",
       "      <td>2023</td>\n",
       "      <td>SE</td>\n",
       "      <td>FT</td>\n",
       "      <td>Principal Data Scientist</td>\n",
       "      <td>80000</td>\n",
       "      <td>EUR</td>\n",
       "      <td>85847</td>\n",
       "      <td>ES</td>\n",
       "      <td>100</td>\n",
       "      <td>ES</td>\n",
       "      <td>L</td>\n",
       "    </tr>\n",
       "    <tr>\n",
       "      <th>1</th>\n",
       "      <td>2023</td>\n",
       "      <td>MI</td>\n",
       "      <td>CT</td>\n",
       "      <td>ML Engineer</td>\n",
       "      <td>30000</td>\n",
       "      <td>USD</td>\n",
       "      <td>30000</td>\n",
       "      <td>US</td>\n",
       "      <td>100</td>\n",
       "      <td>US</td>\n",
       "      <td>S</td>\n",
       "    </tr>\n",
       "    <tr>\n",
       "      <th>2</th>\n",
       "      <td>2023</td>\n",
       "      <td>MI</td>\n",
       "      <td>CT</td>\n",
       "      <td>ML Engineer</td>\n",
       "      <td>25500</td>\n",
       "      <td>USD</td>\n",
       "      <td>25500</td>\n",
       "      <td>US</td>\n",
       "      <td>100</td>\n",
       "      <td>US</td>\n",
       "      <td>S</td>\n",
       "    </tr>\n",
       "    <tr>\n",
       "      <th>3</th>\n",
       "      <td>2023</td>\n",
       "      <td>SE</td>\n",
       "      <td>FT</td>\n",
       "      <td>Data Scientist</td>\n",
       "      <td>175000</td>\n",
       "      <td>USD</td>\n",
       "      <td>175000</td>\n",
       "      <td>CA</td>\n",
       "      <td>100</td>\n",
       "      <td>CA</td>\n",
       "      <td>M</td>\n",
       "    </tr>\n",
       "    <tr>\n",
       "      <th>4</th>\n",
       "      <td>2023</td>\n",
       "      <td>SE</td>\n",
       "      <td>FT</td>\n",
       "      <td>Data Scientist</td>\n",
       "      <td>120000</td>\n",
       "      <td>USD</td>\n",
       "      <td>120000</td>\n",
       "      <td>CA</td>\n",
       "      <td>100</td>\n",
       "      <td>CA</td>\n",
       "      <td>M</td>\n",
       "    </tr>\n",
       "  </tbody>\n",
       "</table>\n",
       "</div>"
      ],
      "text/plain": [
       "   work_year experience_level employment_type                 job_title  \\\n",
       "0       2023               SE              FT  Principal Data Scientist   \n",
       "1       2023               MI              CT               ML Engineer   \n",
       "2       2023               MI              CT               ML Engineer   \n",
       "3       2023               SE              FT            Data Scientist   \n",
       "4       2023               SE              FT            Data Scientist   \n",
       "\n",
       "   salary salary_currency  salary_in_usd employee_residence  remote_ratio  \\\n",
       "0   80000             EUR          85847                 ES           100   \n",
       "1   30000             USD          30000                 US           100   \n",
       "2   25500             USD          25500                 US           100   \n",
       "3  175000             USD         175000                 CA           100   \n",
       "4  120000             USD         120000                 CA           100   \n",
       "\n",
       "  company_location company_size  \n",
       "0               ES            L  \n",
       "1               US            S  \n",
       "2               US            S  \n",
       "3               CA            M  \n",
       "4               CA            M  "
      ]
     },
     "execution_count": 3,
     "metadata": {},
     "output_type": "execute_result"
    }
   ],
   "source": [
    "df.head()"
   ]
  },
  {
   "cell_type": "code",
   "execution_count": 4,
   "id": "088d50f3",
   "metadata": {},
   "outputs": [
    {
     "data": {
      "text/plain": [
       "(3755, 11)"
      ]
     },
     "execution_count": 4,
     "metadata": {},
     "output_type": "execute_result"
    }
   ],
   "source": [
    "df.shape"
   ]
  },
  {
   "cell_type": "code",
   "execution_count": 5,
   "id": "9d63767d",
   "metadata": {},
   "outputs": [
    {
     "data": {
      "text/html": [
       "<div>\n",
       "<style scoped>\n",
       "    .dataframe tbody tr th:only-of-type {\n",
       "        vertical-align: middle;\n",
       "    }\n",
       "\n",
       "    .dataframe tbody tr th {\n",
       "        vertical-align: top;\n",
       "    }\n",
       "\n",
       "    .dataframe thead th {\n",
       "        text-align: right;\n",
       "    }\n",
       "</style>\n",
       "<table border=\"1\" class=\"dataframe\">\n",
       "  <thead>\n",
       "    <tr style=\"text-align: right;\">\n",
       "      <th></th>\n",
       "      <th>work_year</th>\n",
       "      <th>salary</th>\n",
       "      <th>salary_in_usd</th>\n",
       "      <th>remote_ratio</th>\n",
       "    </tr>\n",
       "  </thead>\n",
       "  <tbody>\n",
       "    <tr>\n",
       "      <th>count</th>\n",
       "      <td>3755.000000</td>\n",
       "      <td>3.755000e+03</td>\n",
       "      <td>3755.000000</td>\n",
       "      <td>3755.000000</td>\n",
       "    </tr>\n",
       "    <tr>\n",
       "      <th>mean</th>\n",
       "      <td>2022.373635</td>\n",
       "      <td>1.906956e+05</td>\n",
       "      <td>137570.389880</td>\n",
       "      <td>46.271638</td>\n",
       "    </tr>\n",
       "    <tr>\n",
       "      <th>std</th>\n",
       "      <td>0.691448</td>\n",
       "      <td>6.716765e+05</td>\n",
       "      <td>63055.625278</td>\n",
       "      <td>48.589050</td>\n",
       "    </tr>\n",
       "    <tr>\n",
       "      <th>min</th>\n",
       "      <td>2020.000000</td>\n",
       "      <td>6.000000e+03</td>\n",
       "      <td>5132.000000</td>\n",
       "      <td>0.000000</td>\n",
       "    </tr>\n",
       "    <tr>\n",
       "      <th>25%</th>\n",
       "      <td>2022.000000</td>\n",
       "      <td>1.000000e+05</td>\n",
       "      <td>95000.000000</td>\n",
       "      <td>0.000000</td>\n",
       "    </tr>\n",
       "    <tr>\n",
       "      <th>50%</th>\n",
       "      <td>2022.000000</td>\n",
       "      <td>1.380000e+05</td>\n",
       "      <td>135000.000000</td>\n",
       "      <td>0.000000</td>\n",
       "    </tr>\n",
       "    <tr>\n",
       "      <th>75%</th>\n",
       "      <td>2023.000000</td>\n",
       "      <td>1.800000e+05</td>\n",
       "      <td>175000.000000</td>\n",
       "      <td>100.000000</td>\n",
       "    </tr>\n",
       "    <tr>\n",
       "      <th>max</th>\n",
       "      <td>2023.000000</td>\n",
       "      <td>3.040000e+07</td>\n",
       "      <td>450000.000000</td>\n",
       "      <td>100.000000</td>\n",
       "    </tr>\n",
       "  </tbody>\n",
       "</table>\n",
       "</div>"
      ],
      "text/plain": [
       "         work_year        salary  salary_in_usd  remote_ratio\n",
       "count  3755.000000  3.755000e+03    3755.000000   3755.000000\n",
       "mean   2022.373635  1.906956e+05  137570.389880     46.271638\n",
       "std       0.691448  6.716765e+05   63055.625278     48.589050\n",
       "min    2020.000000  6.000000e+03    5132.000000      0.000000\n",
       "25%    2022.000000  1.000000e+05   95000.000000      0.000000\n",
       "50%    2022.000000  1.380000e+05  135000.000000      0.000000\n",
       "75%    2023.000000  1.800000e+05  175000.000000    100.000000\n",
       "max    2023.000000  3.040000e+07  450000.000000    100.000000"
      ]
     },
     "execution_count": 5,
     "metadata": {},
     "output_type": "execute_result"
    }
   ],
   "source": [
    "df.describe()"
   ]
  },
  {
   "cell_type": "code",
   "execution_count": 6,
   "id": "ef1a43a0",
   "metadata": {},
   "outputs": [
    {
     "data": {
      "text/plain": [
       "work_year             0\n",
       "experience_level      0\n",
       "employment_type       0\n",
       "job_title             0\n",
       "salary                0\n",
       "salary_currency       0\n",
       "salary_in_usd         0\n",
       "employee_residence    0\n",
       "remote_ratio          0\n",
       "company_location      0\n",
       "company_size          0\n",
       "dtype: int64"
      ]
     },
     "execution_count": 6,
     "metadata": {},
     "output_type": "execute_result"
    }
   ],
   "source": [
    "df.isnull().sum()"
   ]
  },
  {
   "cell_type": "code",
   "execution_count": 7,
   "id": "bb64209b",
   "metadata": {},
   "outputs": [
    {
     "name": "stdout",
     "output_type": "stream",
     "text": [
      "<class 'pandas.core.frame.DataFrame'>\n",
      "RangeIndex: 3755 entries, 0 to 3754\n",
      "Data columns (total 11 columns):\n",
      " #   Column              Non-Null Count  Dtype \n",
      "---  ------              --------------  ----- \n",
      " 0   work_year           3755 non-null   int64 \n",
      " 1   experience_level    3755 non-null   object\n",
      " 2   employment_type     3755 non-null   object\n",
      " 3   job_title           3755 non-null   object\n",
      " 4   salary              3755 non-null   int64 \n",
      " 5   salary_currency     3755 non-null   object\n",
      " 6   salary_in_usd       3755 non-null   int64 \n",
      " 7   employee_residence  3755 non-null   object\n",
      " 8   remote_ratio        3755 non-null   int64 \n",
      " 9   company_location    3755 non-null   object\n",
      " 10  company_size        3755 non-null   object\n",
      "dtypes: int64(4), object(7)\n",
      "memory usage: 322.8+ KB\n"
     ]
    }
   ],
   "source": [
    "df.info()"
   ]
  },
  {
   "cell_type": "code",
   "execution_count": 22,
   "id": "a110ed41",
   "metadata": {},
   "outputs": [],
   "source": [
    "import seaborn as sns"
   ]
  },
  {
   "cell_type": "code",
   "execution_count": 23,
   "id": "2c6f88e0",
   "metadata": {},
   "outputs": [
    {
     "data": {
      "image/png": "[encoded data removed]",
      "text/plain": [
       "<Figure size 1440x1440 with 2 Axes>"
      ]
     },
     "metadata": {
      "needs_background": "light"
     },
     "output_type": "display_data"
    }
   ],
   "source": [
    "correlation=df.corr()\n",
    "top_corr_feat= correlation.index\n",
    "plt.figure(figsize=(20,20))\n",
    "# plt heat map\n",
    "graph=sns.heatmap(df[top_corr_feat].corr(),annot=True,cmap='RdYlGn')"
   ]
  },
  {
   "cell_type": "markdown",
   "id": "80a85fc4",
   "metadata": {},
   "source": [
    "### Numerical Variables"
   ]
  },
  {
   "cell_type": "code",
   "execution_count": 29,
   "id": "5ab10c00",
   "metadata": {},
   "outputs": [
    {
     "name": "stdout",
     "output_type": "stream",
     "text": [
      "Number of numerical features:  11\n"
     ]
    }
   ],
   "source": [
    "## list of numerical variables\n",
    "numerical_features=[feature for feature in df.columns if df[feature].dtypes != 'O']\n",
    "\n",
    "print('Number of numerical features: ', len(numerical_features))"
   ]
  },
  {
   "cell_type": "code",
   "execution_count": 30,
   "id": "f980f2b0",
   "metadata": {},
   "outputs": [
    {
     "data": {
      "text/html": [
       "<div>\n",
       "<style scoped>\n",
       "    .dataframe tbody tr th:only-of-type {\n",
       "        vertical-align: middle;\n",
       "    }\n",
       "\n",
       "    .dataframe tbody tr th {\n",
       "        vertical-align: top;\n",
       "    }\n",
       "\n",
       "    .dataframe thead th {\n",
       "        text-align: right;\n",
       "    }\n",
       "</style>\n",
       "<table border=\"1\" class=\"dataframe\">\n",
       "  <thead>\n",
       "    <tr style=\"text-align: right;\">\n",
       "      <th></th>\n",
       "      <th>work_year</th>\n",
       "      <th>experience_level</th>\n",
       "      <th>employment_type</th>\n",
       "      <th>job_title</th>\n",
       "      <th>salary</th>\n",
       "      <th>salary_currency</th>\n",
       "      <th>salary_in_usd</th>\n",
       "      <th>employee_residence</th>\n",
       "      <th>remote_ratio</th>\n",
       "      <th>company_location</th>\n",
       "      <th>company_size</th>\n",
       "    </tr>\n",
       "  </thead>\n",
       "  <tbody>\n",
       "    <tr>\n",
       "      <th>0</th>\n",
       "      <td>2023</td>\n",
       "      <td>2</td>\n",
       "      <td>3</td>\n",
       "      <td>88</td>\n",
       "      <td>80000</td>\n",
       "      <td>11</td>\n",
       "      <td>85847</td>\n",
       "      <td>38</td>\n",
       "      <td>100</td>\n",
       "      <td>37</td>\n",
       "      <td>1</td>\n",
       "    </tr>\n",
       "    <tr>\n",
       "      <th>1</th>\n",
       "      <td>2023</td>\n",
       "      <td>1</td>\n",
       "      <td>2</td>\n",
       "      <td>73</td>\n",
       "      <td>30000</td>\n",
       "      <td>18</td>\n",
       "      <td>30000</td>\n",
       "      <td>74</td>\n",
       "      <td>100</td>\n",
       "      <td>69</td>\n",
       "      <td>0</td>\n",
       "    </tr>\n",
       "    <tr>\n",
       "      <th>2</th>\n",
       "      <td>2023</td>\n",
       "      <td>1</td>\n",
       "      <td>2</td>\n",
       "      <td>73</td>\n",
       "      <td>25500</td>\n",
       "      <td>18</td>\n",
       "      <td>25500</td>\n",
       "      <td>74</td>\n",
       "      <td>100</td>\n",
       "      <td>69</td>\n",
       "      <td>0</td>\n",
       "    </tr>\n",
       "    <tr>\n",
       "      <th>3</th>\n",
       "      <td>2023</td>\n",
       "      <td>2</td>\n",
       "      <td>3</td>\n",
       "      <td>62</td>\n",
       "      <td>175000</td>\n",
       "      <td>18</td>\n",
       "      <td>175000</td>\n",
       "      <td>73</td>\n",
       "      <td>100</td>\n",
       "      <td>67</td>\n",
       "      <td>2</td>\n",
       "    </tr>\n",
       "    <tr>\n",
       "      <th>4</th>\n",
       "      <td>2023</td>\n",
       "      <td>2</td>\n",
       "      <td>3</td>\n",
       "      <td>62</td>\n",
       "      <td>120000</td>\n",
       "      <td>18</td>\n",
       "      <td>120000</td>\n",
       "      <td>73</td>\n",
       "      <td>100</td>\n",
       "      <td>67</td>\n",
       "      <td>2</td>\n",
       "    </tr>\n",
       "  </tbody>\n",
       "</table>\n",
       "</div>"
      ],
      "text/plain": [
       "   work_year  experience_level  employment_type  job_title  salary  \\\n",
       "0       2023                 2                3         88   80000   \n",
       "1       2023                 1                2         73   30000   \n",
       "2       2023                 1                2         73   25500   \n",
       "3       2023                 2                3         62  175000   \n",
       "4       2023                 2                3         62  120000   \n",
       "\n",
       "   salary_currency  salary_in_usd  employee_residence  remote_ratio  \\\n",
       "0               11          85847                  38           100   \n",
       "1               18          30000                  74           100   \n",
       "2               18          25500                  74           100   \n",
       "3               18         175000                  73           100   \n",
       "4               18         120000                  73           100   \n",
       "\n",
       "   company_location  company_size  \n",
       "0                37             1  \n",
       "1                69             0  \n",
       "2                69             0  \n",
       "3                67             2  \n",
       "4                67             2  "
      ]
     },
     "execution_count": 30,
     "metadata": {},
     "output_type": "execute_result"
    }
   ],
   "source": [
    "df[numerical_features].head()"
   ]
  },
  {
   "cell_type": "markdown",
   "id": "b15f7d06",
   "metadata": {},
   "source": [
    "## Temporal Variables (DateTime Variables)"
   ]
  },
  {
   "cell_type": "code",
   "execution_count": 31,
   "id": "a6bacd86",
   "metadata": {},
   "outputs": [
    {
     "data": {
      "text/plain": [
       "['work_year']"
      ]
     },
     "execution_count": 31,
     "metadata": {},
     "output_type": "execute_result"
    }
   ],
   "source": [
    "## list of temporal variables\n",
    "year_feature=[feature for feature in df.columns if 'work_year' in feature]\n",
    "\n",
    "year_feature"
   ]
  },
  {
   "cell_type": "code",
   "execution_count": 32,
   "id": "e0310e7f",
   "metadata": {},
   "outputs": [
    {
     "data": {
      "text/plain": [
       "Text(0.5, 1.0, 'Salary vs Work Year')"
      ]
     },
     "execution_count": 32,
     "metadata": {},
     "output_type": "execute_result"
    },
    {
     "data": {
      "image/png": "[encoded data removed]",
      "text/plain": [
       "<Figure size 432x288 with 1 Axes>"
      ]
     },
     "metadata": {
      "needs_background": "light"
     },
     "output_type": "display_data"
    }
   ],
   "source": [
    "df.groupby('work_year')['salary'].median().plot()\n",
    "plt.xlabel('work_year')\n",
    "plt.ylabel('Median salary')\n",
    "plt.title('Salary vs Work Year')"
   ]
  },
  {
   "cell_type": "code",
   "execution_count": 33,
   "id": "965cbb08",
   "metadata": {},
   "outputs": [
    {
     "data": {
      "text/plain": [
       "array([100,   0,  50], dtype=int64)"
      ]
     },
     "execution_count": 33,
     "metadata": {},
     "output_type": "execute_result"
    }
   ],
   "source": [
    "df['remote_ratio'].unique()"
   ]
  },
  {
   "cell_type": "code",
   "execution_count": 34,
   "id": "1ca78778",
   "metadata": {},
   "outputs": [
    {
     "data": {
      "text/plain": [
       "Text(0.5, 1.0, 'Salary vs remote ratio')"
      ]
     },
     "execution_count": 34,
     "metadata": {},
     "output_type": "execute_result"
    },
    {
     "data": {
      "image/png": "[encoded data removed]",
      "text/plain": [
       "<Figure size 432x288 with 1 Axes>"
      ]
     },
     "metadata": {
      "needs_background": "light"
     },
     "output_type": "display_data"
    }
   ],
   "source": [
    "df.groupby('remote_ratio')['salary'].median().plot()\n",
    "plt.xlabel('remote_ratio')\n",
    "plt.ylabel('Median salary')\n",
    "plt.title('Salary vs remote ratio')"
   ]
  },
  {
   "cell_type": "code",
   "execution_count": null,
   "id": "bc01736c",
   "metadata": {},
   "outputs": [],
   "source": []
  },
  {
   "cell_type": "code",
   "execution_count": 35,
   "id": "fce36401",
   "metadata": {},
   "outputs": [
    {
     "data": {
      "image/png": "[encoded data removed]",
      "text/plain": [
       "<Figure size 432x288 with 1 Axes>"
      ]
     },
     "metadata": {
      "needs_background": "light"
     },
     "output_type": "display_data"
    },
    {
     "data": {
      "image/png": "[encoded data removed]",
      "text/plain": [
       "<Figure size 432x288 with 1 Axes>"
      ]
     },
     "metadata": {
      "needs_background": "light"
     },
     "output_type": "display_data"
    },
    {
     "data": {
      "image/png": "[encoded data removed]",
      "text/plain": [
       "<Figure size 432x288 with 1 Axes>"
      ]
     },
     "metadata": {
      "needs_background": "light"
     },
     "output_type": "display_data"
    },
    {
     "data": {
      "image/png": "[encoded data removed]",
      "text/plain": [
       "<Figure size 432x288 with 1 Axes>"
      ]
     },
     "metadata": {
      "needs_background": "light"
     },
     "output_type": "display_data"
    },
    {
     "data": {
      "image/png": "[encoded data removed]",
      "text/plain": [
       "<Figure size 432x288 with 1 Axes>"
      ]
     },
     "metadata": {
      "needs_background": "light"
     },
     "output_type": "display_data"
    },
    {
     "data": {
      "image/png": "[encoded data removed]",
      "text/plain": [
       "<Figure size 432x288 with 1 Axes>"
      ]
     },
     "metadata": {
      "needs_background": "light"
     },
     "output_type": "display_data"
    },
    {
     "data": {
      "image/png": "[encoded data removed]",
      "text/plain": [
       "<Figure size 432x288 with 1 Axes>"
      ]
     },
     "metadata": {
      "needs_background": "light"
     },
     "output_type": "display_data"
    },
    {
     "data": {
      "image/png": "[encoded data removed]",
      "text/plain": [
       "<Figure size 432x288 with 1 Axes>"
      ]
     },
     "metadata": {
      "needs_background": "light"
     },
     "output_type": "display_data"
    },
    {
     "data": {
      "image/png": "[encoded data removed]",
      "text/plain": [
       "<Figure size 432x288 with 1 Axes>"
      ]
     },
     "metadata": {
      "needs_background": "light"
     },
     "output_type": "display_data"
    },
    {
     "data": {
      "image/png": "[encoded data removed]",
      "text/plain": [
       "<Figure size 432x288 with 1 Axes>"
      ]
     },
     "metadata": {
      "needs_background": "light"
     },
     "output_type": "display_data"
    },
    {
     "data": {
      "image/png": "[encoded data removed]",
      "text/plain": [
       "<Figure size 432x288 with 1 Axes>"
      ]
     },
     "metadata": {
      "needs_background": "light"
     },
     "output_type": "display_data"
    }
   ],
   "source": [
    "for feature in numerical_features:\n",
    "    data=df.copy()\n",
    "    data[feature].hist(bins=25)\n",
    "    plt.xlabel(feature)\n",
    "    plt.ylabel('Count')\n",
    "    plt.title(feature)\n",
    "    plt.show()"
   ]
  },
  {
   "cell_type": "markdown",
   "id": "1a2ce2c8",
   "metadata": {},
   "source": [
    "### Categorical Features"
   ]
  },
  {
   "cell_type": "code",
   "execution_count": 15,
   "id": "446c8e2d",
   "metadata": {},
   "outputs": [
    {
     "data": {
      "text/plain": [
       "['experience_level',\n",
       " 'employment_type',\n",
       " 'job_title',\n",
       " 'salary_currency',\n",
       " 'employee_residence',\n",
       " 'company_location',\n",
       " 'company_size']"
      ]
     },
     "execution_count": 15,
     "metadata": {},
     "output_type": "execute_result"
    }
   ],
   "source": [
    "categorial_features=[feature for feature in df.columns if df[feature].dtypes=='O']\n",
    "categorial_features"
   ]
  },
  {
   "cell_type": "code",
   "execution_count": 16,
   "id": "b707226e",
   "metadata": {},
   "outputs": [
    {
     "data": {
      "text/html": [
       "<div>\n",
       "<style scoped>\n",
       "    .dataframe tbody tr th:only-of-type {\n",
       "        vertical-align: middle;\n",
       "    }\n",
       "\n",
       "    .dataframe tbody tr th {\n",
       "        vertical-align: top;\n",
       "    }\n",
       "\n",
       "    .dataframe thead th {\n",
       "        text-align: right;\n",
       "    }\n",
       "</style>\n",
       "<table border=\"1\" class=\"dataframe\">\n",
       "  <thead>\n",
       "    <tr style=\"text-align: right;\">\n",
       "      <th></th>\n",
       "      <th>experience_level</th>\n",
       "      <th>employment_type</th>\n",
       "      <th>job_title</th>\n",
       "      <th>salary_currency</th>\n",
       "      <th>employee_residence</th>\n",
       "      <th>company_location</th>\n",
       "      <th>company_size</th>\n",
       "    </tr>\n",
       "  </thead>\n",
       "  <tbody>\n",
       "    <tr>\n",
       "      <th>0</th>\n",
       "      <td>SE</td>\n",
       "      <td>FT</td>\n",
       "      <td>Principal Data Scientist</td>\n",
       "      <td>EUR</td>\n",
       "      <td>ES</td>\n",
       "      <td>ES</td>\n",
       "      <td>L</td>\n",
       "    </tr>\n",
       "    <tr>\n",
       "      <th>1</th>\n",
       "      <td>MI</td>\n",
       "      <td>CT</td>\n",
       "      <td>ML Engineer</td>\n",
       "      <td>USD</td>\n",
       "      <td>US</td>\n",
       "      <td>US</td>\n",
       "      <td>S</td>\n",
       "    </tr>\n",
       "    <tr>\n",
       "      <th>2</th>\n",
       "      <td>MI</td>\n",
       "      <td>CT</td>\n",
       "      <td>ML Engineer</td>\n",
       "      <td>USD</td>\n",
       "      <td>US</td>\n",
       "      <td>US</td>\n",
       "      <td>S</td>\n",
       "    </tr>\n",
       "    <tr>\n",
       "      <th>3</th>\n",
       "      <td>SE</td>\n",
       "      <td>FT</td>\n",
       "      <td>Data Scientist</td>\n",
       "      <td>USD</td>\n",
       "      <td>CA</td>\n",
       "      <td>CA</td>\n",
       "      <td>M</td>\n",
       "    </tr>\n",
       "    <tr>\n",
       "      <th>4</th>\n",
       "      <td>SE</td>\n",
       "      <td>FT</td>\n",
       "      <td>Data Scientist</td>\n",
       "      <td>USD</td>\n",
       "      <td>CA</td>\n",
       "      <td>CA</td>\n",
       "      <td>M</td>\n",
       "    </tr>\n",
       "  </tbody>\n",
       "</table>\n",
       "</div>"
      ],
      "text/plain": [
       "  experience_level employment_type                 job_title salary_currency  \\\n",
       "0               SE              FT  Principal Data Scientist             EUR   \n",
       "1               MI              CT               ML Engineer             USD   \n",
       "2               MI              CT               ML Engineer             USD   \n",
       "3               SE              FT            Data Scientist             USD   \n",
       "4               SE              FT            Data Scientist             USD   \n",
       "\n",
       "  employee_residence company_location company_size  \n",
       "0                 ES               ES            L  \n",
       "1                 US               US            S  \n",
       "2                 US               US            S  \n",
       "3                 CA               CA            M  \n",
       "4                 CA               CA            M  "
      ]
     },
     "execution_count": 16,
     "metadata": {},
     "output_type": "execute_result"
    }
   ],
   "source": [
    "df[categorial_features].head()"
   ]
  },
  {
   "cell_type": "code",
   "execution_count": 17,
   "id": "db249867",
   "metadata": {},
   "outputs": [
    {
     "data": {
      "image/png": "[encoded data removed]",
      "text/plain": [
       "<Figure size 432x288 with 1 Axes>"
      ]
     },
     "metadata": {
      "needs_background": "light"
     },
     "output_type": "display_data"
    },
    {
     "data": {
      "image/png": "[encoded data removed]",
      "text/plain": [
       "<Figure size 432x288 with 1 Axes>"
      ]
     },
     "metadata": {
      "needs_background": "light"
     },
     "output_type": "display_data"
    },
    {
     "data": {
      "image/png": "[encoded data removed]",
      "text/plain": [
       "<Figure size 432x288 with 1 Axes>"
      ]
     },
     "metadata": {
      "needs_background": "light"
     },
     "output_type": "display_data"
    },
    {
     "data": {
      "image/png": "[encoded data removed]",
      "text/plain": [
       "<Figure size 432x288 with 1 Axes>"
      ]
     },
     "metadata": {
      "needs_background": "light"
     },
     "output_type": "display_data"
    },
    {
     "data": {
      "image/png": "[encoded data removed]",
      "text/plain": [
       "<Figure size 432x288 with 1 Axes>"
      ]
     },
     "metadata": {
      "needs_background": "light"
     },
     "output_type": "display_data"
    },
    {
     "data": {
      "image/png": "[encoded data removed]",
      "text/plain": [
       "<Figure size 432x288 with 1 Axes>"
      ]
     },
     "metadata": {
      "needs_background": "light"
     },
     "output_type": "display_data"
    },
    {
     "data": {
      "image/png": "[encoded data removed]",
      "text/plain": [
       "<Figure size 432x288 with 1 Axes>"
      ]
     },
     "metadata": {
      "needs_background": "light"
     },
     "output_type": "display_data"
    }
   ],
   "source": [
    "for feature in categorial_features:\n",
    "    data=df.copy()\n",
    "    data.groupby(feature)['salary_in_usd'].median().plot.bar()\n",
    "    plt.xlabel(feature)\n",
    "    plt.ylabel('salary_in_usd')\n",
    "    plt.title(feature)\n",
    "    plt.show()"
   ]
  },
  {
   "cell_type": "code",
   "execution_count": 18,
   "id": "2948adbd",
   "metadata": {},
   "outputs": [
    {
     "data": {
      "text/html": [
       "<div>\n",
       "<style scoped>\n",
       "    .dataframe tbody tr th:only-of-type {\n",
       "        vertical-align: middle;\n",
       "    }\n",
       "\n",
       "    .dataframe tbody tr th {\n",
       "        vertical-align: top;\n",
       "    }\n",
       "\n",
       "    .dataframe thead th {\n",
       "        text-align: right;\n",
       "    }\n",
       "</style>\n",
       "<table border=\"1\" class=\"dataframe\">\n",
       "  <thead>\n",
       "    <tr style=\"text-align: right;\">\n",
       "      <th></th>\n",
       "      <th>experience_level</th>\n",
       "      <th>employment_type</th>\n",
       "      <th>job_title</th>\n",
       "      <th>salary_currency</th>\n",
       "      <th>employee_residence</th>\n",
       "      <th>company_location</th>\n",
       "      <th>company_size</th>\n",
       "    </tr>\n",
       "  </thead>\n",
       "  <tbody>\n",
       "    <tr>\n",
       "      <th>0</th>\n",
       "      <td>SE</td>\n",
       "      <td>FT</td>\n",
       "      <td>Principal Data Scientist</td>\n",
       "      <td>EUR</td>\n",
       "      <td>ES</td>\n",
       "      <td>ES</td>\n",
       "      <td>L</td>\n",
       "    </tr>\n",
       "    <tr>\n",
       "      <th>1</th>\n",
       "      <td>MI</td>\n",
       "      <td>CT</td>\n",
       "      <td>ML Engineer</td>\n",
       "      <td>USD</td>\n",
       "      <td>US</td>\n",
       "      <td>US</td>\n",
       "      <td>S</td>\n",
       "    </tr>\n",
       "    <tr>\n",
       "      <th>2</th>\n",
       "      <td>MI</td>\n",
       "      <td>CT</td>\n",
       "      <td>ML Engineer</td>\n",
       "      <td>USD</td>\n",
       "      <td>US</td>\n",
       "      <td>US</td>\n",
       "      <td>S</td>\n",
       "    </tr>\n",
       "    <tr>\n",
       "      <th>3</th>\n",
       "      <td>SE</td>\n",
       "      <td>FT</td>\n",
       "      <td>Data Scientist</td>\n",
       "      <td>USD</td>\n",
       "      <td>CA</td>\n",
       "      <td>CA</td>\n",
       "      <td>M</td>\n",
       "    </tr>\n",
       "    <tr>\n",
       "      <th>4</th>\n",
       "      <td>SE</td>\n",
       "      <td>FT</td>\n",
       "      <td>Data Scientist</td>\n",
       "      <td>USD</td>\n",
       "      <td>CA</td>\n",
       "      <td>CA</td>\n",
       "      <td>M</td>\n",
       "    </tr>\n",
       "    <tr>\n",
       "      <th>...</th>\n",
       "      <td>...</td>\n",
       "      <td>...</td>\n",
       "      <td>...</td>\n",
       "      <td>...</td>\n",
       "      <td>...</td>\n",
       "      <td>...</td>\n",
       "      <td>...</td>\n",
       "    </tr>\n",
       "    <tr>\n",
       "      <th>3750</th>\n",
       "      <td>SE</td>\n",
       "      <td>FT</td>\n",
       "      <td>Data Scientist</td>\n",
       "      <td>USD</td>\n",
       "      <td>US</td>\n",
       "      <td>US</td>\n",
       "      <td>L</td>\n",
       "    </tr>\n",
       "    <tr>\n",
       "      <th>3751</th>\n",
       "      <td>MI</td>\n",
       "      <td>FT</td>\n",
       "      <td>Principal Data Scientist</td>\n",
       "      <td>USD</td>\n",
       "      <td>US</td>\n",
       "      <td>US</td>\n",
       "      <td>L</td>\n",
       "    </tr>\n",
       "    <tr>\n",
       "      <th>3752</th>\n",
       "      <td>EN</td>\n",
       "      <td>FT</td>\n",
       "      <td>Data Scientist</td>\n",
       "      <td>USD</td>\n",
       "      <td>US</td>\n",
       "      <td>US</td>\n",
       "      <td>S</td>\n",
       "    </tr>\n",
       "    <tr>\n",
       "      <th>3753</th>\n",
       "      <td>EN</td>\n",
       "      <td>CT</td>\n",
       "      <td>Business Data Analyst</td>\n",
       "      <td>USD</td>\n",
       "      <td>US</td>\n",
       "      <td>US</td>\n",
       "      <td>L</td>\n",
       "    </tr>\n",
       "    <tr>\n",
       "      <th>3754</th>\n",
       "      <td>SE</td>\n",
       "      <td>FT</td>\n",
       "      <td>Data Science Manager</td>\n",
       "      <td>INR</td>\n",
       "      <td>IN</td>\n",
       "      <td>IN</td>\n",
       "      <td>L</td>\n",
       "    </tr>\n",
       "  </tbody>\n",
       "</table>\n",
       "<p>3755 rows × 7 columns</p>\n",
       "</div>"
      ],
      "text/plain": [
       "     experience_level employment_type                 job_title  \\\n",
       "0                  SE              FT  Principal Data Scientist   \n",
       "1                  MI              CT               ML Engineer   \n",
       "2                  MI              CT               ML Engineer   \n",
       "3                  SE              FT            Data Scientist   \n",
       "4                  SE              FT            Data Scientist   \n",
       "...               ...             ...                       ...   \n",
       "3750               SE              FT            Data Scientist   \n",
       "3751               MI              FT  Principal Data Scientist   \n",
       "3752               EN              FT            Data Scientist   \n",
       "3753               EN              CT     Business Data Analyst   \n",
       "3754               SE              FT      Data Science Manager   \n",
       "\n",
       "     salary_currency employee_residence company_location company_size  \n",
       "0                EUR                 ES               ES            L  \n",
       "1                USD                 US               US            S  \n",
       "2                USD                 US               US            S  \n",
       "3                USD                 CA               CA            M  \n",
       "4                USD                 CA               CA            M  \n",
       "...              ...                ...              ...          ...  \n",
       "3750             USD                 US               US            L  \n",
       "3751             USD                 US               US            L  \n",
       "3752             USD                 US               US            S  \n",
       "3753             USD                 US               US            L  \n",
       "3754             INR                 IN               IN            L  \n",
       "\n",
       "[3755 rows x 7 columns]"
      ]
     },
     "execution_count": 18,
     "metadata": {},
     "output_type": "execute_result"
    }
   ],
   "source": [
    "df[categorial_features]"
   ]
  },
  {
   "cell_type": "code",
   "execution_count": 36,
   "id": "c636f3dd",
   "metadata": {},
   "outputs": [],
   "source": [
    "## Converting categorial feature into numerical one\n",
    "\n",
    "for feature in categorial_features:\n",
    "    labels_ordered=df.groupby([feature])['salary'].mean().sort_values().index\n",
    "    labels_ordered={k:i for i,k in enumerate(labels_ordered,0)}\n",
    "    df[feature]=df[feature].map(labels_ordered)"
   ]
  },
  {
   "cell_type": "code",
   "execution_count": 37,
   "id": "a681ab7a",
   "metadata": {},
   "outputs": [
    {
     "data": {
      "text/html": [
       "<div>\n",
       "<style scoped>\n",
       "    .dataframe tbody tr th:only-of-type {\n",
       "        vertical-align: middle;\n",
       "    }\n",
       "\n",
       "    .dataframe tbody tr th {\n",
       "        vertical-align: top;\n",
       "    }\n",
       "\n",
       "    .dataframe thead th {\n",
       "        text-align: right;\n",
       "    }\n",
       "</style>\n",
       "<table border=\"1\" class=\"dataframe\">\n",
       "  <thead>\n",
       "    <tr style=\"text-align: right;\">\n",
       "      <th></th>\n",
       "      <th>work_year</th>\n",
       "      <th>experience_level</th>\n",
       "      <th>employment_type</th>\n",
       "      <th>job_title</th>\n",
       "      <th>salary</th>\n",
       "      <th>salary_currency</th>\n",
       "      <th>salary_in_usd</th>\n",
       "      <th>employee_residence</th>\n",
       "      <th>remote_ratio</th>\n",
       "      <th>company_location</th>\n",
       "      <th>company_size</th>\n",
       "    </tr>\n",
       "  </thead>\n",
       "  <tbody>\n",
       "    <tr>\n",
       "      <th>0</th>\n",
       "      <td>2023</td>\n",
       "      <td>0</td>\n",
       "      <td>2</td>\n",
       "      <td>66</td>\n",
       "      <td>80000</td>\n",
       "      <td>0</td>\n",
       "      <td>85847</td>\n",
       "      <td>31</td>\n",
       "      <td>100</td>\n",
       "      <td>26</td>\n",
       "      <td>2</td>\n",
       "    </tr>\n",
       "    <tr>\n",
       "      <th>1</th>\n",
       "      <td>2023</td>\n",
       "      <td>3</td>\n",
       "      <td>1</td>\n",
       "      <td>84</td>\n",
       "      <td>30000</td>\n",
       "      <td>9</td>\n",
       "      <td>30000</td>\n",
       "      <td>66</td>\n",
       "      <td>100</td>\n",
       "      <td>57</td>\n",
       "      <td>1</td>\n",
       "    </tr>\n",
       "    <tr>\n",
       "      <th>2</th>\n",
       "      <td>2023</td>\n",
       "      <td>3</td>\n",
       "      <td>1</td>\n",
       "      <td>84</td>\n",
       "      <td>25500</td>\n",
       "      <td>9</td>\n",
       "      <td>25500</td>\n",
       "      <td>66</td>\n",
       "      <td>100</td>\n",
       "      <td>57</td>\n",
       "      <td>1</td>\n",
       "    </tr>\n",
       "    <tr>\n",
       "      <th>3</th>\n",
       "      <td>2023</td>\n",
       "      <td>0</td>\n",
       "      <td>2</td>\n",
       "      <td>72</td>\n",
       "      <td>175000</td>\n",
       "      <td>9</td>\n",
       "      <td>175000</td>\n",
       "      <td>65</td>\n",
       "      <td>100</td>\n",
       "      <td>54</td>\n",
       "      <td>0</td>\n",
       "    </tr>\n",
       "    <tr>\n",
       "      <th>4</th>\n",
       "      <td>2023</td>\n",
       "      <td>0</td>\n",
       "      <td>2</td>\n",
       "      <td>72</td>\n",
       "      <td>120000</td>\n",
       "      <td>9</td>\n",
       "      <td>120000</td>\n",
       "      <td>65</td>\n",
       "      <td>100</td>\n",
       "      <td>54</td>\n",
       "      <td>0</td>\n",
       "    </tr>\n",
       "    <tr>\n",
       "      <th>...</th>\n",
       "      <td>...</td>\n",
       "      <td>...</td>\n",
       "      <td>...</td>\n",
       "      <td>...</td>\n",
       "      <td>...</td>\n",
       "      <td>...</td>\n",
       "      <td>...</td>\n",
       "      <td>...</td>\n",
       "      <td>...</td>\n",
       "      <td>...</td>\n",
       "      <td>...</td>\n",
       "    </tr>\n",
       "    <tr>\n",
       "      <th>3750</th>\n",
       "      <td>2020</td>\n",
       "      <td>0</td>\n",
       "      <td>2</td>\n",
       "      <td>72</td>\n",
       "      <td>412000</td>\n",
       "      <td>9</td>\n",
       "      <td>412000</td>\n",
       "      <td>66</td>\n",
       "      <td>100</td>\n",
       "      <td>57</td>\n",
       "      <td>2</td>\n",
       "    </tr>\n",
       "    <tr>\n",
       "      <th>3751</th>\n",
       "      <td>2021</td>\n",
       "      <td>3</td>\n",
       "      <td>2</td>\n",
       "      <td>66</td>\n",
       "      <td>151000</td>\n",
       "      <td>9</td>\n",
       "      <td>151000</td>\n",
       "      <td>66</td>\n",
       "      <td>100</td>\n",
       "      <td>57</td>\n",
       "      <td>2</td>\n",
       "    </tr>\n",
       "    <tr>\n",
       "      <th>3752</th>\n",
       "      <td>2020</td>\n",
       "      <td>1</td>\n",
       "      <td>2</td>\n",
       "      <td>72</td>\n",
       "      <td>105000</td>\n",
       "      <td>9</td>\n",
       "      <td>105000</td>\n",
       "      <td>66</td>\n",
       "      <td>100</td>\n",
       "      <td>57</td>\n",
       "      <td>1</td>\n",
       "    </tr>\n",
       "    <tr>\n",
       "      <th>3753</th>\n",
       "      <td>2020</td>\n",
       "      <td>1</td>\n",
       "      <td>1</td>\n",
       "      <td>74</td>\n",
       "      <td>100000</td>\n",
       "      <td>9</td>\n",
       "      <td>100000</td>\n",
       "      <td>66</td>\n",
       "      <td>100</td>\n",
       "      <td>57</td>\n",
       "      <td>2</td>\n",
       "    </tr>\n",
       "    <tr>\n",
       "      <th>3754</th>\n",
       "      <td>2021</td>\n",
       "      <td>0</td>\n",
       "      <td>2</td>\n",
       "      <td>81</td>\n",
       "      <td>7000000</td>\n",
       "      <td>16</td>\n",
       "      <td>94665</td>\n",
       "      <td>74</td>\n",
       "      <td>50</td>\n",
       "      <td>67</td>\n",
       "      <td>2</td>\n",
       "    </tr>\n",
       "  </tbody>\n",
       "</table>\n",
       "<p>3755 rows × 11 columns</p>\n",
       "</div>"
      ],
      "text/plain": [
       "      work_year  experience_level  employment_type  job_title   salary  \\\n",
       "0          2023                 0                2         66    80000   \n",
       "1          2023                 3                1         84    30000   \n",
       "2          2023                 3                1         84    25500   \n",
       "3          2023                 0                2         72   175000   \n",
       "4          2023                 0                2         72   120000   \n",
       "...         ...               ...              ...        ...      ...   \n",
       "3750       2020                 0                2         72   412000   \n",
       "3751       2021                 3                2         66   151000   \n",
       "3752       2020                 1                2         72   105000   \n",
       "3753       2020                 1                1         74   100000   \n",
       "3754       2021                 0                2         81  7000000   \n",
       "\n",
       "      salary_currency  salary_in_usd  employee_residence  remote_ratio  \\\n",
       "0                   0          85847                  31           100   \n",
       "1                   9          30000                  66           100   \n",
       "2                   9          25500                  66           100   \n",
       "3                   9         175000                  65           100   \n",
       "4                   9         120000                  65           100   \n",
       "...               ...            ...                 ...           ...   \n",
       "3750                9         412000                  66           100   \n",
       "3751                9         151000                  66           100   \n",
       "3752                9         105000                  66           100   \n",
       "3753                9         100000                  66           100   \n",
       "3754               16          94665                  74            50   \n",
       "\n",
       "      company_location  company_size  \n",
       "0                   26             2  \n",
       "1                   57             1  \n",
       "2                   57             1  \n",
       "3                   54             0  \n",
       "4                   54             0  \n",
       "...                ...           ...  \n",
       "3750                57             2  \n",
       "3751                57             2  \n",
       "3752                57             1  \n",
       "3753                57             2  \n",
       "3754                67             2  \n",
       "\n",
       "[3755 rows x 11 columns]"
      ]
     },
     "execution_count": 37,
     "metadata": {},
     "output_type": "execute_result"
    }
   ],
   "source": [
    "df"
   ]
  },
  {
   "cell_type": "code",
   "execution_count": 38,
   "id": "7d43e9f6",
   "metadata": {},
   "outputs": [
    {
     "data": {
      "text/plain": [
       "array([31, 66, 65, 44, 40, 36, 74, 71, 25, 41, 47, 17, 39, 54, 43, 30, 58,\n",
       "       73,  5, 37, 35, 59, 55, 29, 67, 53, 38, 72, 33, 64, 23, 15, 32, 16,\n",
       "       22, 61, 18, 26,  0, 28, 19, 12, 20,  1, 45, 34, 14, 50, 76,  2, 63,\n",
       "       46,  7, 60, 77, 68, 70, 27, 21, 57,  9,  3, 48, 69, 75, 13,  6, 11,\n",
       "       56, 52, 51, 42, 49,  8, 62,  4, 24, 10], dtype=int64)"
      ]
     },
     "execution_count": 38,
     "metadata": {},
     "output_type": "execute_result"
    }
   ],
   "source": [
    "df['employee_residence'].unique()"
   ]
  },
  {
   "cell_type": "code",
   "execution_count": 39,
   "id": "21262c6e",
   "metadata": {},
   "outputs": [],
   "source": [
    "X=df.drop(['salary'], axis=1)\n",
    "y=df['salary']"
   ]
  },
  {
   "cell_type": "code",
   "execution_count": 40,
   "id": "7b5ff98b",
   "metadata": {},
   "outputs": [],
   "source": [
    "from sklearn.model_selection import train_test_split\n",
    "from sklearn.preprocessing import StandardScaler"
   ]
  },
  {
   "cell_type": "code",
   "execution_count": 41,
   "id": "88bb2411",
   "metadata": {},
   "outputs": [],
   "source": [
    "X_train,X_test,y_train,y_test=train_test_split(X,y,test_size=0.25,random_state=20)"
   ]
  },
  {
   "cell_type": "code",
   "execution_count": 42,
   "id": "f9322d39",
   "metadata": {},
   "outputs": [],
   "source": [
    "scaler=StandardScaler()"
   ]
  },
  {
   "cell_type": "code",
   "execution_count": 43,
   "id": "68d39a5e",
   "metadata": {},
   "outputs": [],
   "source": [
    "X_train=scaler.fit_transform(X_train)"
   ]
  },
  {
   "cell_type": "code",
   "execution_count": 44,
   "id": "246b2cf3",
   "metadata": {},
   "outputs": [],
   "source": [
    "X_test=scaler.transform(X_test)"
   ]
  },
  {
   "cell_type": "markdown",
   "id": "918607e3",
   "metadata": {},
   "source": [
    "## Bagging"
   ]
  },
  {
   "cell_type": "code",
   "execution_count": 55,
   "id": "d7f6ef47",
   "metadata": {},
   "outputs": [],
   "source": [
    "from sklearn.svm import SVR\n",
    "from sklearn.ensemble import BaggingRegressor\n",
    "from sklearn.ensemble import RandomForestRegressor\n",
    "from sklearn.tree import DecisionTreeRegressor"
   ]
  },
  {
   "cell_type": "code",
   "execution_count": 46,
   "id": "4bfee224",
   "metadata": {},
   "outputs": [],
   "source": [
    "bgr=BaggingRegressor()"
   ]
  },
  {
   "cell_type": "code",
   "execution_count": 47,
   "id": "2cb39381",
   "metadata": {},
   "outputs": [
    {
     "data": {
      "text/plain": [
       "BaggingRegressor()"
      ]
     },
     "execution_count": 47,
     "metadata": {},
     "output_type": "execute_result"
    }
   ],
   "source": [
    "bgr.fit(X_train,y_train)"
   ]
  },
  {
   "cell_type": "code",
   "execution_count": 48,
   "id": "bcb04711",
   "metadata": {},
   "outputs": [],
   "source": [
    "y_predict=bgr.predict(X_test)"
   ]
  },
  {
   "cell_type": "code",
   "execution_count": 49,
   "id": "ed61af93",
   "metadata": {},
   "outputs": [
    {
     "data": {
      "text/plain": [
       "array([ 195460. ,   79000. ,  130200.4,  205960. ,  200000. ,  102017. ,\n",
       "        122000. , 1393000. ,  121970. ,  150000. ,   67600. ,  205716. ,\n",
       "        160000. ,  110000. ,   21444.4,  120000. ,  222034. ,  130000. ,\n",
       "        130000. ,  180000. ,  146000. ,   70000. ,  191475. ,  147060. ,\n",
       "         68950. ,  236280. ,  200000. ,  310050. ,   85000. , 1230000. ,\n",
       "        123479.6,   75000. ,  459800. ,  230000. ,  160000. ,  153400. ,\n",
       "        140255. ,  222200. ,  190000. ,  186000. ,  165000. ,  148770. ,\n",
       "         85813.2,   50000. ,  110000. ,   67400. ,   95000. ,  145000. ,\n",
       "         50000. ,  185900. ,  175000. ,  235000. ,   78000. ,  310000. ,\n",
       "        100000. ,  205960. ,  455600. ,   14006. ,   60000. ,   67650. ,\n",
       "        120000. ,  257775. ,   61600. ,  116944. ,  100000. ,  120207. ,\n",
       "        175000. , 1727199.7,   95000. ,   63290. ,   60300. ,  215125. ,\n",
       "        184708. ,  130000. ,  130000. ,   35000. ,  160000. ,  375000. ,\n",
       "        149028. ,  185900. ,  187740. ,  156400. ,  165417. ,  167526. ,\n",
       "         71800. ,  172830. ,   80000. ,  126937.5,  102047. ,  104250. ,\n",
       "        107010. ,   75000. ,  167060. ,  140000. ,   52330. ,  145000. ,\n",
       "        224160. ,   67230. ,  125000. ,   90000. ,   31182. ,   70000. ,\n",
       "        124009. ,  100000. ,  185880. ,  140000. ,  145000. ,  200000. ,\n",
       "       1044000. ,   58300. ,  129000. ,  180000. ,  244912.5,  125000. ,\n",
       "         55000. ,  107010. ,  140000. , 4734000. ,  129000. ,   85520. ,\n",
       "        120000. ,  116944. ,   70000. ,   80000. ,  115934. ,  187160. ,\n",
       "        170050. ,  133500. ,  141525. ,  119310. ,  200000. ,  160000. ,\n",
       "        125000. ,   60000. ,   93660. ,   83500. ,   75000. ,  141525. ,\n",
       "        150000. ,  165000. ,  183317. ,  250000. ,  128100. ,  250000. ,\n",
       "        160000. ,   36000. ,  125000. ,  324660. ,  110000. ,  172830. ,\n",
       "        150000. ,  120189. ,  150186. ,  275300. ,  120000. ,  129000. ,\n",
       "         93905.4,   93940. ,  185900. ,  170000. ,  120000. ,  135000. ,\n",
       "         39040. ,  122890. ,  196963. ,   23600. ,  125000. ,  106010. ,\n",
       "        185000. ,   49320. ,  120000. ,   69250. ,  138750. , 3430000. ,\n",
       "        186000. ,  170000. ,  110000. ,  150000. ,  180000. ,  279650. ,\n",
       "         58540. ,   36340. , 4584000. ,  247500. ,  130868. ,  125000. ,\n",
       "        353780. ,  100000. ,  165000. ,  114435. ,   47360. ,  145000. ,\n",
       "        155000. ,  153008.8,  111985. ,  126100. ,   85000. ,  144000. ,\n",
       "        149865. ,  123000. ,   60000. ,   48130. ,   60000. ,  185900. ,\n",
       "         47850. ,  147150. ,  109388. ,   90320. ,   78000. ,  160000. ,\n",
       "        120000. ,  155000. ,  205180. ,  135000. ,   50550. ,   85000. ,\n",
       "         99010. ,  112900. ,   95000. ,  145000. ,  248160. ,  185000. ,\n",
       "        105200. ,  265800. , 6692000. ,  146011.5,  160000. ,  107010. ,\n",
       "        204500. ,  122890. ,  128000. ,  193855. ,   31660. ,  145350. ,\n",
       "         75000. ,   84000. ,   75000. ,  100000. ,  105200. ,  140000. ,\n",
       "        180000. ,  140735. ,  120000. ,  125000. ,  188910. ,  120000. ,\n",
       "         66000.4,  344420. ,  145000. ,   71800. ,  168360. ,  153600. ,\n",
       "        129300. ,  150000. ,  109388. ,  200000. , 1531200. ,   98680. ,\n",
       "        128234. ,  326330. ,  120000. ,  643500. ,   94134.4,   61702.7,\n",
       "        161784.2,   87290. ,   58200. ,  113940. ,   90320. ,   15412. ,\n",
       "        129300. ,   41480. ,   95000. ,  136000. ,   80000. ,  144100. ,\n",
       "         70000. ,   65000. ,   91100. ,  150000. ,   55800. ,  200000. ,\n",
       "        310000. ,  135000. ,  105476. ,  135000. ,  418800. ,  180000. ,\n",
       "         52665. ,  191475. ,  135083.2,  204500. ,   80000. ,  134148.8,\n",
       "        109008. ,  104340. ,   60000. ,  250000. ,  187870. ,  169000. ,\n",
       "        239900. ,  115000. ,  236900. ,   30700. ,   87290. ,   82275.6,\n",
       "         11157.2,  138360. ,  147150. ,  129300. ,  225000. ,   85000. ,\n",
       "         75000. ,   65000. ,  150000. ,  140000. ,  195730. ,  146020. ,\n",
       "        300070. ,  170000. ,   65450. ,   77000. ,  121690. , 1095000. ,\n",
       "        160000. ,  220000. ,  175000. ,  140000. ,  156520. ,  130000. ,\n",
       "         75000. ,  120300. ,  130000. ,   98760. ,  130000. ,  129300. ,\n",
       "         95000. ,  145998.5,  105000. ,   71800. ,   36340. ,  111955. ,\n",
       "        170000. ,  156580. ,  153600. ,  135000. ,  100000. ,  204642. ,\n",
       "        172830. ,   34300. ,  120000. ,   48000. ,  131906. ,  129300. ,\n",
       "         45120. ,  105660. ,  130000. ,   80000. ,  142200. ,  150000. ,\n",
       "        150000. ,  132302. ,   55060. ,  377500. ,   68000. ,  113940. ,\n",
       "        110000. ,  202905.3,  140000. ,  205540. ,  252000. ,  160000. ,\n",
       "         82205.7,  150000. ,  120000. ,  100000. ,  167470. ,  101802. ,\n",
       "         45250. ,  175000. ,  156400. ,  200000. ,  203090. ,  118500. ,\n",
       "        113940. ,  165000. ,   70700. ,  221210. ,  109000. ,  185880. ,\n",
       "         52500. ,  166260. ,   35300. ,  130000. ,  130000. ,  163820. ,\n",
       "         71050. ,  144897.8,   99465. ,  106140. ,  150000. ,  168370. ,\n",
       "       1385000. ,   75000. ,  106800. ,   59000. ,  160000. ,  150000. ,\n",
       "        140000. ,  156400. ,  130000. ,  250000. ,   50000. ,  135000. ,\n",
       "        169000. ,  186218.4,  116640.6,  133948.4,  129300. ,  100000. ,\n",
       "        138735. ,  150000. ,  175090. ,  163820. ,   65000. ,   38740. ,\n",
       "         39100. ,  190000. ,  138735. ,   36000. ,  235100. ,  180000. ,\n",
       "        130000. ,  154588. ,  150000. ,   93830. ,  126600. ,  112030. ,\n",
       "        185900. ,   40100. ,   95055. ,  185080. ,  105000. ,  105500. ,\n",
       "         11676. ,  161530. ,   63000. ,  151800. ,  104440. ,  252000. ,\n",
       "         55175. ,   53880. ,  185000. ,  209297.5,  106020. ,  200000. ,\n",
       "         45000. ,  250000. ,  198200. ,  260000. ,  140040. ,  150000. ,\n",
       "        120000. ,  131158. ,  129300. ,  160000. ,  100000. ,  185000. ,\n",
       "        297610. ,  133353.2,  156405. ,  204500. ,  153075.2,  165000. ,\n",
       "         46500. ,  215035. ,  128950. ,  180000. ,  100000. ,  110000. ,\n",
       "        129360. ,  148775. ,  100000. ,  200000. ,  180000. ,   85427. ,\n",
       "        192000. ,  169000. ,   75000. ,   16860. ,   95200. ,  200000. ,\n",
       "        237000. ,   40630. ,  258925. ,  110000. ,  160000. ,  204650. ,\n",
       "        160000. ,  120000. ,  210000. ,  140000. ,   43860. ,  140000. ,\n",
       "         60500. , 1388000. ,  175801.6,   50000. ,  140000. ,   80076. ,\n",
       "        244900. ,  175801.6,  245090. ,   69800. ,  163820. ,  122570. ,\n",
       "        100000. ,   52230. ,  155000. ,  110600. ,  226750. ,   60500. ,\n",
       "        113000. ,  140245. ,   54510. ,  300000. ,   90700. ,  165000. ,\n",
       "        126000. ,  316857. ,  100000. ,   69400. ,   36000. ,  184020. ,\n",
       "         70000. ,  133983.2,  139500. ,  170050. ,   68750. ,  225000. ,\n",
       "        231275. ,   45000. ,  100000. ,  149028. ,  147180. ,   85000. ,\n",
       "        250000. ,   30390. ,  135000. ,  161335.2,  160000. ,  123664. ,\n",
       "        155000. ,   63770. ,  212998. ,  150000. ,  104000. ,   30250. ,\n",
       "        127015. ,  109388. ,  178615. ,  206769.4,  191475. ,  139000. ,\n",
       "       1065000. ,  188500. ,  100000. ,  130000. ,   77952. ,   70000. ,\n",
       "         80000. ,  130000. ,   70000. ,  180000. ,  141525. ,  163820. ,\n",
       "         36000. ,  172710. ,   81500. ,  192000. ,  252000. ,   83069. ,\n",
       "        120000. ,  133832.8,  142200. ,  158940. ,  136000. ,  175000. ,\n",
       "        161638.4,  186000. ,  109304. ,  129300. ,  126957.5,  160000. ,\n",
       "        140000. ,  186000. ,  200000. ,   56940. ,  220000. ,  155905. ,\n",
       "        175000. ,   69946.4,  122000. ,  145000. ,   63000. ,   67868.8,\n",
       "        175621.6,  252700. ,  129300. ,  141525. ,  160000. ,   95000. ,\n",
       "         67900.4,   98911. ,  126000. ,  100000. , 4056000. ,   62848.8,\n",
       "        112007.5,   90000. ,  182675. ,  105200. ,   53200. ,  120000. ,\n",
       "         65000. ,  135000. ,  163820. ,  231275. ,   85793.2,   80500. ,\n",
       "         90000. ,  160000. , 4844000. ,  148725. ,  252000. ,  100000. ,\n",
       "        100000. ,  122700. ,  100000. ,  171480. ,  129950. ,   75000. ,\n",
       "        229998.6,   44136. ,   22880. ,   42600. ,  165000. ,  224160. ,\n",
       "         45000. ,  107360. ,  134900. ,  169000. ,  170000. ,  275000. ,\n",
       "         36000. ,   90000. ,   60000. ,   85470. ,  150000. ,  405200. ,\n",
       "        115000. ,  160000. ,  122000. ,  200000. ,   73200. ,  170000. ,\n",
       "        120000. ,  247500. ,  189660. ,  140255. ,  107010. ,  169000. ,\n",
       "         64650. ,  114700. ,  136000. ,   55010. ,  140200. ,   81666. ,\n",
       "        121545. ,  174000. ,   99700. ,  215000. ,  130000. ,  125040.4,\n",
       "        112990. ,  175000. ,   56040. ,  129300. ,  108000. ,  106800. ,\n",
       "        179294. ,  160000. ,  186000. ,  205150. ,  240200. ,  140000. ,\n",
       "        110000. ,  140000. ,  102744. ,  185880. ,  140000. ,  126000. ,\n",
       "        201135. ,  191475. ,  223160. ,  299500. ,  112900. ,   47360. ,\n",
       "        104000. ,  200000. ,  120000. ,  110000. ,  148664.7,   70000. ,\n",
       "        106500. ,   51181. ,  141525. ,   36000. ,   45000. ,  297560. ,\n",
       "         75000. ,   50988.6,  130000. ,  196000. ,  146000. ,   62400. ,\n",
       "        160000. ,  140900. ,   83877. ,  129000. , 1324000. ,  130000. ,\n",
       "        150000. ,   50000. ,  132284. ,  145000. ,  215130. ,  213678. ,\n",
       "        178965. ,  144000. ,  115000. , 7000000. ,  185000. ,  145000. ,\n",
       "         61610. ,  203400. ,  227920. ,  150000. ,   80000. ,  125000. ,\n",
       "         91940. ,  140000. ,  149065.2,  175000. ,  145000. , 2385000. ,\n",
       "        105000. ,  115934. ,  240000. ,  102047. ,   99325. ,  200000. ,\n",
       "         85000. ,  130000. ,   31550. ,  204500. ,   80176. ,  160000. ,\n",
       "        109070. ,  162500. ,  174500. ,  130000. ,   41480. ,  170000. ,\n",
       "        165000. ,   41480. ,  150000. ,  160000. ,  100000. ,   73134. ,\n",
       "        145019.7,   79628. ,   90000. ,  190000. ,  193000. ,  180000. ,\n",
       "        134033.2,  200000. ,   26440. ,   53299.9,   30696. ,  121730. ,\n",
       "        145000. ,  160048. ,  250000. ,  163820. ,  180200. ,  201945. ,\n",
       "        165890. ,  100000. ,  289820. ,  297610. ,  100000. ,  109388. ,\n",
       "        170050. ,   49300. ,  145000. ,  342840. ,  110855. ,   70480. ,\n",
       "        230000. ,  175000. ,  172110. ,   45000. ,  184000. ,  200000. ,\n",
       "         70000. ,  155000. ,  147090. ,  147910. ,  299500. ,  105000. ,\n",
       "         81676. ,  180180. ,  125000. ,   45600. ,  145000. ,  113000. ,\n",
       "        192000. ,  117315.4,   20000. ,   90700. ,   44460. ,  185000. ,\n",
       "        128912.5,  198344. ,  260350. ,   99135. ,  128878. ,  152000. ,\n",
       "        192657.6,  140000. ,  109388. ,  118240.4,  141525. ,  190000. ,\n",
       "         53150. ,  155000. ,   65000. ,   54940. ,  140000. ,  170000. ,\n",
       "        135000. ,  167060. ,  150000. ,  160000. ,  100000. ,  153600. ,\n",
       "        145000. ,  139500. ,  191475. ,  182002. ,   94008.4,  188985. ,\n",
       "        136300. ,  204500. ,   50988.6,   50000. ,  130348. ,   95000. ,\n",
       "        208144.8,  130000. ,  204500. ,   75176. ,  180000. ,   40200. ,\n",
       "         85000. ,  247500. ,  154588. ,  220000. ,   93660. ,  145000. ,\n",
       "        135000. ,  110000. ,   63000. ,   66000.4,   70200. ,   61610. ,\n",
       "        144000. ,   69100. ,  124036. ,  210000. ,  205960. ,  106010. ,\n",
       "        156400. ,   46656. ,  192638.4,   69600. ,   35000. ,  123000. ,\n",
       "        200000. ,   23860. ,   60500. ,  150000. ,  175621.6,  135000. ,\n",
       "        150000. ,  191475. ,  184000. ,  206919.9,   62682.2,  198920. ,\n",
       "        195820. ,   33100. ,  122590. ,  260000. ,  180000. ,  101981. ,\n",
       "        131300. ,  153008.8,  153420. ,  125000. ,  240200. ,   40000. ,\n",
       "        124036. ,   95000. ,   63150. ,   93671.8,  261150. ,  180000. ,\n",
       "        200000. ,  183010. ,  171003. ,  112682. ,  100000. ,   80000. ,\n",
       "         56799.8,   19870.4,  123772. ])"
      ]
     },
     "execution_count": 49,
     "metadata": {},
     "output_type": "execute_result"
    }
   ],
   "source": [
    "y_predict"
   ]
  },
  {
   "cell_type": "code",
   "execution_count": 50,
   "id": "e2802b97",
   "metadata": {},
   "outputs": [],
   "source": [
    "from sklearn.metrics import mean_squared_error"
   ]
  },
  {
   "cell_type": "code",
   "execution_count": 51,
   "id": "22beb520",
   "metadata": {},
   "outputs": [
    {
     "data": {
      "text/plain": [
       "8903125604.788157"
      ]
     },
     "execution_count": 51,
     "metadata": {},
     "output_type": "execute_result"
    }
   ],
   "source": [
    "mse=mean_squared_error(y_test,y_predict)\n",
    "mse"
   ]
  },
  {
   "cell_type": "code",
   "execution_count": 52,
   "id": "bc21e3ed",
   "metadata": {},
   "outputs": [],
   "source": [
    "from sklearn.metrics import r2_score\n",
    "score=r2_score(y_test,y_predict)"
   ]
  },
  {
   "cell_type": "code",
   "execution_count": 53,
   "id": "933048b0",
   "metadata": {},
   "outputs": [
    {
     "data": {
      "text/plain": [
       "0.9629924000480962"
      ]
     },
     "execution_count": 53,
     "metadata": {},
     "output_type": "execute_result"
    }
   ],
   "source": [
    "score"
   ]
  },
  {
   "cell_type": "markdown",
   "id": "36b99e8b",
   "metadata": {},
   "source": [
    "### Bagging using Decision Tree"
   ]
  },
  {
   "cell_type": "code",
   "execution_count": 62,
   "id": "ed1cd3fd",
   "metadata": {},
   "outputs": [],
   "source": [
    "bagDT = BaggingRegressor(\n",
    "    base_estimator=DecisionTreeRegressor(),\n",
    "    # n_estimators=500, # number of trees\n",
    "    # max_samples=0.25, # number of rows to each tree\n",
    "    # bootstrap=True,   # sampling with replacement true\n",
    "    # random_state=42\n",
    ")"
   ]
  },
  {
   "cell_type": "code",
   "execution_count": 63,
   "id": "a869cfd0",
   "metadata": {},
   "outputs": [
    {
     "data": {
      "text/plain": [
       "BaggingRegressor(base_estimator=DecisionTreeRegressor())"
      ]
     },
     "execution_count": 63,
     "metadata": {},
     "output_type": "execute_result"
    }
   ],
   "source": [
    "bagDT.fit(X_train,y_train)"
   ]
  },
  {
   "cell_type": "code",
   "execution_count": 64,
   "id": "f70dd3ce",
   "metadata": {},
   "outputs": [],
   "source": [
    "y_predDT = bagDT.predict(X_test)"
   ]
  },
  {
   "cell_type": "code",
   "execution_count": 65,
   "id": "378868f6",
   "metadata": {},
   "outputs": [
    {
     "data": {
      "text/plain": [
       "0.7130313443205059"
      ]
     },
     "execution_count": 65,
     "metadata": {},
     "output_type": "execute_result"
    }
   ],
   "source": [
    "r2_score(y_test,y_predDT)"
   ]
  },
  {
   "cell_type": "markdown",
   "id": "aab68a6c",
   "metadata": {},
   "source": [
    "### Bagging using SVM"
   ]
  },
  {
   "cell_type": "code",
   "execution_count": 83,
   "id": "f5040796",
   "metadata": {},
   "outputs": [],
   "source": [
    "bagSVR = BaggingRegressor(\n",
    "    base_estimator=SVR()\n",
    ")"
   ]
  },
  {
   "cell_type": "code",
   "execution_count": 84,
   "id": "e154deed",
   "metadata": {},
   "outputs": [
    {
     "data": {
      "text/plain": [
       "BaggingRegressor(base_estimator=SVR())"
      ]
     },
     "execution_count": 84,
     "metadata": {},
     "output_type": "execute_result"
    }
   ],
   "source": [
    "bagSVR.fit(X_train,y_train)"
   ]
  },
  {
   "cell_type": "code",
   "execution_count": 85,
   "id": "07ec9571",
   "metadata": {},
   "outputs": [],
   "source": [
    "y_predSVR = bagSVR.predict(X_test)"
   ]
  },
  {
   "cell_type": "code",
   "execution_count": 86,
   "id": "fc03131d",
   "metadata": {},
   "outputs": [
    {
     "data": {
      "text/plain": [
       "-0.01081745187448746"
      ]
     },
     "execution_count": 86,
     "metadata": {},
     "output_type": "execute_result"
    }
   ],
   "source": [
    "r2_score(y_test,y_predSVR)"
   ]
  },
  {
   "cell_type": "markdown",
   "id": "7020addc",
   "metadata": {},
   "source": [
    "### Applying Grid Search CV in bagging Regression"
   ]
  },
  {
   "cell_type": "code",
   "execution_count": 72,
   "id": "bea1ccb1",
   "metadata": {},
   "outputs": [],
   "source": [
    "from sklearn.model_selection import GridSearchCV"
   ]
  },
  {
   "cell_type": "code",
   "execution_count": 73,
   "id": "9967e7a8",
   "metadata": {},
   "outputs": [],
   "source": [
    "parameters = {\n",
    "    'n_estimators': [50,100,500], \n",
    "    'max_samples': [0.1,0.4,0.7,1.0],\n",
    "    'bootstrap' : [True,False],\n",
    "    'max_features' : [0.1,0.4,0.7,1.0]\n",
    "    }"
   ]
  },
  {
   "cell_type": "code",
   "execution_count": 74,
   "id": "e521dc40",
   "metadata": {},
   "outputs": [],
   "source": [
    "search = GridSearchCV(estimator=BaggingRegressor(), param_grid=parameters, cv=5)"
   ]
  },
  {
   "cell_type": "code",
   "execution_count": 75,
   "id": "8c357a5f",
   "metadata": {},
   "outputs": [
    {
     "data": {
      "text/plain": [
       "GridSearchCV(cv=5, estimator=BaggingRegressor(),\n",
       "             param_grid={'bootstrap': [True, False],\n",
       "                         'max_features': [0.1, 0.4, 0.7, 1.0],\n",
       "                         'max_samples': [0.1, 0.4, 0.7, 1.0],\n",
       "                         'n_estimators': [50, 100, 500]})"
      ]
     },
     "execution_count": 75,
     "metadata": {},
     "output_type": "execute_result"
    }
   ],
   "source": [
    "search.fit(X_train,y_train)"
   ]
  },
  {
   "cell_type": "code",
   "execution_count": 76,
   "id": "127cb5e5",
   "metadata": {},
   "outputs": [
    {
     "data": {
      "text/plain": [
       "0.7867312856767833"
      ]
     },
     "execution_count": 76,
     "metadata": {},
     "output_type": "execute_result"
    }
   ],
   "source": [
    "search.best_score_"
   ]
  },
  {
   "cell_type": "code",
   "execution_count": 77,
   "id": "f454d835",
   "metadata": {},
   "outputs": [
    {
     "data": {
      "text/plain": [
       "{'bootstrap': True,\n",
       " 'max_features': 1.0,\n",
       " 'max_samples': 0.7,\n",
       " 'n_estimators': 100}"
      ]
     },
     "execution_count": 77,
     "metadata": {},
     "output_type": "execute_result"
    }
   ],
   "source": [
    "search.best_params_"
   ]
  },
  {
   "cell_type": "markdown",
   "id": "2b5a679a",
   "metadata": {},
   "source": [
    "### Applying Random Search CV in bagging Regression"
   ]
  },
  {
   "cell_type": "code",
   "execution_count": 78,
   "id": "de30fd05",
   "metadata": {},
   "outputs": [],
   "source": [
    "from sklearn.model_selection import RandomizedSearchCV"
   ]
  },
  {
   "cell_type": "code",
   "execution_count": 79,
   "id": "594e1f91",
   "metadata": {},
   "outputs": [],
   "source": [
    "rscv = RandomizedSearchCV(estimator=BaggingRegressor(), param_distributions=parameters, cv=5)"
   ]
  },
  {
   "cell_type": "code",
   "execution_count": 80,
   "id": "f68ed4b7",
   "metadata": {},
   "outputs": [
    {
     "data": {
      "text/plain": [
       "RandomizedSearchCV(cv=5, estimator=BaggingRegressor(),\n",
       "                   param_distributions={'bootstrap': [True, False],\n",
       "                                        'max_features': [0.1, 0.4, 0.7, 1.0],\n",
       "                                        'max_samples': [0.1, 0.4, 0.7, 1.0],\n",
       "                                        'n_estimators': [50, 100, 500]})"
      ]
     },
     "execution_count": 80,
     "metadata": {},
     "output_type": "execute_result"
    }
   ],
   "source": [
    "rscv.fit(X_train,y_train)"
   ]
  },
  {
   "cell_type": "code",
   "execution_count": 81,
   "id": "ca6b4f43",
   "metadata": {},
   "outputs": [
    {
     "data": {
      "text/plain": [
       "0.7887767531197336"
      ]
     },
     "execution_count": 81,
     "metadata": {},
     "output_type": "execute_result"
    }
   ],
   "source": [
    "rscv.best_score_"
   ]
  },
  {
   "cell_type": "code",
   "execution_count": 82,
   "id": "fd349cbe",
   "metadata": {},
   "outputs": [
    {
     "data": {
      "text/plain": [
       "{'n_estimators': 50,\n",
       " 'max_samples': 0.7,\n",
       " 'max_features': 1.0,\n",
       " 'bootstrap': True}"
      ]
     },
     "execution_count": 82,
     "metadata": {},
     "output_type": "execute_result"
    }
   ],
   "source": [
    "rscv.best_params_"
   ]
  },
  {
   "cell_type": "markdown",
   "id": "e765a308",
   "metadata": {},
   "source": [
    "## Random Forest Regression"
   ]
  },
  {
   "cell_type": "code",
   "execution_count": 87,
   "id": "55c6e5d5",
   "metadata": {},
   "outputs": [],
   "source": [
    "from sklearn.ensemble import RandomForestRegressor"
   ]
  },
  {
   "cell_type": "code",
   "execution_count": 88,
   "id": "4c2be609",
   "metadata": {},
   "outputs": [],
   "source": [
    "rf = RandomForestRegressor()"
   ]
  },
  {
   "cell_type": "code",
   "execution_count": 89,
   "id": "202efd9e",
   "metadata": {},
   "outputs": [
    {
     "data": {
      "text/plain": [
       "RandomForestRegressor()"
      ]
     },
     "execution_count": 89,
     "metadata": {},
     "output_type": "execute_result"
    }
   ],
   "source": [
    "rf.fit(X_train,y_train)"
   ]
  },
  {
   "cell_type": "code",
   "execution_count": 90,
   "id": "3bf7d540",
   "metadata": {},
   "outputs": [],
   "source": [
    "y_predr = rf.predict(X_test)"
   ]
  },
  {
   "cell_type": "code",
   "execution_count": 91,
   "id": "b4c60389",
   "metadata": {},
   "outputs": [
    {
     "data": {
      "text/plain": [
       "0.9684608188428852"
      ]
     },
     "execution_count": 91,
     "metadata": {},
     "output_type": "execute_result"
    }
   ],
   "source": [
    "r2_score(y_test,y_predr)"
   ]
  },
  {
   "cell_type": "markdown",
   "id": "811dc35d",
   "metadata": {},
   "source": [
    "## Applying Grid Search CV in Random Forest Regression"
   ]
  },
  {
   "cell_type": "code",
   "execution_count": 93,
   "id": "bb61f240",
   "metadata": {},
   "outputs": [],
   "source": [
    "params={\n",
    "    'max_depth':[3,5,8,12],\n",
    "    'n_estimators':[100,300,500],\n",
    "    'criterion':['squared_error','absolute_error','poisson'],\n",
    "    'max_features':['sqrt','log2']\n",
    "}"
   ]
  },
  {
   "cell_type": "code",
   "execution_count": 113,
   "id": "79e95d46",
   "metadata": {},
   "outputs": [],
   "source": [
    "grd=GridSearchCV(rf,param_grid=params,cv=5)"
   ]
  },
  {
   "cell_type": "code",
   "execution_count": 114,
   "id": "af27c442",
   "metadata": {},
   "outputs": [
    {
     "data": {
      "text/plain": [
       "GridSearchCV(cv=5, estimator=RandomForestRegressor(),\n",
       "             param_grid={'criterion': ['squared_error', 'absolute_error',\n",
       "                                       'poisson'],\n",
       "                         'max_depth': [3, 5, 8, 12],\n",
       "                         'max_features': ['sqrt', 'log2'],\n",
       "                         'n_estimators': [100, 300, 500]})"
      ]
     },
     "execution_count": 114,
     "metadata": {},
     "output_type": "execute_result"
    }
   ],
   "source": [
    "grd.fit(X_train,y_train)"
   ]
  },
  {
   "cell_type": "code",
   "execution_count": 115,
   "id": "7a23d97c",
   "metadata": {},
   "outputs": [
    {
     "data": {
      "text/plain": [
       "{'criterion': 'absolute_error',\n",
       " 'max_depth': 8,\n",
       " 'max_features': 'log2',\n",
       " 'n_estimators': 100}"
      ]
     },
     "execution_count": 115,
     "metadata": {},
     "output_type": "execute_result"
    }
   ],
   "source": [
    "grd.best_params_"
   ]
  },
  {
   "cell_type": "code",
   "execution_count": 116,
   "id": "a8c4bdad",
   "metadata": {},
   "outputs": [
    {
     "data": {
      "text/plain": [
       "RandomForestRegressor(criterion='absolute_error', max_depth=8,\n",
       "                      max_features='log2')"
      ]
     },
     "execution_count": 116,
     "metadata": {},
     "output_type": "execute_result"
    }
   ],
   "source": [
    "grd.best_estimator_"
   ]
  },
  {
   "cell_type": "code",
   "execution_count": 117,
   "id": "5f175977",
   "metadata": {},
   "outputs": [
    {
     "data": {
      "text/plain": [
       "0.7540322762255528"
      ]
     },
     "execution_count": 117,
     "metadata": {},
     "output_type": "execute_result"
    }
   ],
   "source": [
    "grd.best_score_"
   ]
  },
  {
   "cell_type": "markdown",
   "id": "ac1cac3c",
   "metadata": {},
   "source": [
    "### Applying Random Search CV in Random Forest Regression"
   ]
  },
  {
   "cell_type": "code",
   "execution_count": 109,
   "id": "1f2542ac",
   "metadata": {},
   "outputs": [],
   "source": [
    "rsrf = RandomizedSearchCV(estimator=rf, param_distributions=params, cv=5)"
   ]
  },
  {
   "cell_type": "code",
   "execution_count": 110,
   "id": "e6e7ebe8",
   "metadata": {},
   "outputs": [
    {
     "data": {
      "text/plain": [
       "RandomizedSearchCV(cv=5, estimator=RandomForestRegressor(),\n",
       "                   param_distributions={'criterion': ['squared_error',\n",
       "                                                      'absolute_error',\n",
       "                                                      'poisson'],\n",
       "                                        'max_depth': [3, 5, 8, 12],\n",
       "                                        'max_features': ['sqrt', 'log2'],\n",
       "                                        'n_estimators': [100, 300, 500]})"
      ]
     },
     "execution_count": 110,
     "metadata": {},
     "output_type": "execute_result"
    }
   ],
   "source": [
    "rsrf.fit(X_train,y_train)"
   ]
  },
  {
   "cell_type": "code",
   "execution_count": 111,
   "id": "9acf6535",
   "metadata": {},
   "outputs": [
    {
     "data": {
      "text/plain": [
       "{'n_estimators': 100,\n",
       " 'max_features': 'sqrt',\n",
       " 'max_depth': 8,\n",
       " 'criterion': 'absolute_error'}"
      ]
     },
     "execution_count": 111,
     "metadata": {},
     "output_type": "execute_result"
    }
   ],
   "source": [
    "rsrf.best_params_"
   ]
  },
  {
   "cell_type": "code",
   "execution_count": 112,
   "id": "ac4f9382",
   "metadata": {},
   "outputs": [
    {
     "data": {
      "text/plain": [
       "0.7541333149220228"
      ]
     },
     "execution_count": 112,
     "metadata": {},
     "output_type": "execute_result"
    }
   ],
   "source": [
    "rsrf.best_score_"
   ]
  },
  {
   "cell_type": "markdown",
   "id": "39029949",
   "metadata": {},
   "source": [
    "# Boosting"
   ]
  },
  {
   "cell_type": "markdown",
   "id": "e72eca74",
   "metadata": {},
   "source": [
    "## Ada Boosting"
   ]
  },
  {
   "cell_type": "code",
   "execution_count": 118,
   "id": "f37fec3d",
   "metadata": {},
   "outputs": [],
   "source": [
    "from sklearn.ensemble import AdaBoostRegressor"
   ]
  },
  {
   "cell_type": "code",
   "execution_count": 119,
   "id": "b54120a0",
   "metadata": {},
   "outputs": [],
   "source": [
    "adaR=AdaBoostRegressor()"
   ]
  },
  {
   "cell_type": "code",
   "execution_count": 120,
   "id": "e9000083",
   "metadata": {},
   "outputs": [
    {
     "data": {
      "text/plain": [
       "AdaBoostRegressor()"
      ]
     },
     "execution_count": 120,
     "metadata": {},
     "output_type": "execute_result"
    }
   ],
   "source": [
    "adaR.fit(X_train,y_train)"
   ]
  },
  {
   "cell_type": "code",
   "execution_count": 122,
   "id": "069183db",
   "metadata": {},
   "outputs": [
    {
     "data": {
      "text/plain": [
       "{'base_estimator': None,\n",
       " 'learning_rate': 1.0,\n",
       " 'loss': 'linear',\n",
       " 'n_estimators': 50,\n",
       " 'random_state': None}"
      ]
     },
     "execution_count": 122,
     "metadata": {},
     "output_type": "execute_result"
    }
   ],
   "source": [
    "adaR.get_params()"
   ]
  },
  {
   "cell_type": "code",
   "execution_count": 123,
   "id": "27b391bd",
   "metadata": {},
   "outputs": [],
   "source": [
    "y_pred = adaR.predict(X_test)"
   ]
  },
  {
   "cell_type": "code",
   "execution_count": 125,
   "id": "bd9dc6c7",
   "metadata": {},
   "outputs": [
    {
     "data": {
      "text/plain": [
       "0.8710703030955962"
      ]
     },
     "execution_count": 125,
     "metadata": {},
     "output_type": "execute_result"
    }
   ],
   "source": [
    "r2_score(y_pred,y_test)"
   ]
  },
  {
   "cell_type": "markdown",
   "id": "0abec7d4",
   "metadata": {},
   "source": [
    "### Applying Grid Search CV in Ada Boosting"
   ]
  },
  {
   "cell_type": "code",
   "execution_count": 126,
   "id": "edc638d1",
   "metadata": {},
   "outputs": [],
   "source": [
    "params={\n",
    "    'n_estimators':[100,300,500],\n",
    "    'learning_rate':[0.1,0.3,0.5,0.7,1.0],\n",
    "    'loss':['linear', 'exponential','square']\n",
    "}"
   ]
  },
  {
   "cell_type": "code",
   "execution_count": 127,
   "id": "f9372aa2",
   "metadata": {},
   "outputs": [],
   "source": [
    "grd=GridSearchCV(adaR,param_grid=params,cv=5)"
   ]
  },
  {
   "cell_type": "code",
   "execution_count": 128,
   "id": "7beb8e77",
   "metadata": {},
   "outputs": [
    {
     "data": {
      "text/plain": [
       "GridSearchCV(cv=5, estimator=AdaBoostRegressor(),\n",
       "             param_grid={'learning_rate': [0.1, 0.3, 0.5, 0.7, 1.0],\n",
       "                         'loss': ['linear', 'exponential', 'square'],\n",
       "                         'n_estimators': [100, 300, 500]})"
      ]
     },
     "execution_count": 128,
     "metadata": {},
     "output_type": "execute_result"
    }
   ],
   "source": [
    "grd.fit(X_train,y_train)"
   ]
  },
  {
   "cell_type": "code",
   "execution_count": 129,
   "id": "f8ac1682",
   "metadata": {},
   "outputs": [
    {
     "data": {
      "text/plain": [
       "{'learning_rate': 1.0, 'loss': 'linear', 'n_estimators': 100}"
      ]
     },
     "execution_count": 129,
     "metadata": {},
     "output_type": "execute_result"
    }
   ],
   "source": [
    "grd.best_params_"
   ]
  },
  {
   "cell_type": "code",
   "execution_count": 130,
   "id": "5bcd1644",
   "metadata": {},
   "outputs": [
    {
     "data": {
      "text/plain": [
       "0.8282850821559865"
      ]
     },
     "execution_count": 130,
     "metadata": {},
     "output_type": "execute_result"
    }
   ],
   "source": [
    "grd.best_score_"
   ]
  },
  {
   "cell_type": "markdown",
   "id": "7a58fb71",
   "metadata": {},
   "source": [
    "### Applying Random Search CV in Ada Boosting"
   ]
  },
  {
   "cell_type": "code",
   "execution_count": 131,
   "id": "00b8cda8",
   "metadata": {},
   "outputs": [],
   "source": [
    "rnd=RandomizedSearchCV(adaR,param_distributions=params,cv=5)"
   ]
  },
  {
   "cell_type": "code",
   "execution_count": 132,
   "id": "27935e72",
   "metadata": {},
   "outputs": [
    {
     "data": {
      "text/plain": [
       "RandomizedSearchCV(cv=5, estimator=AdaBoostRegressor(),\n",
       "                   param_distributions={'learning_rate': [0.1, 0.3, 0.5, 0.7,\n",
       "                                                          1.0],\n",
       "                                        'loss': ['linear', 'exponential',\n",
       "                                                 'square'],\n",
       "                                        'n_estimators': [100, 300, 500]})"
      ]
     },
     "execution_count": 132,
     "metadata": {},
     "output_type": "execute_result"
    }
   ],
   "source": [
    "rnd.fit(X_train,y_train)"
   ]
  },
  {
   "cell_type": "code",
   "execution_count": 133,
   "id": "1a218535",
   "metadata": {},
   "outputs": [
    {
     "data": {
      "text/plain": [
       "{'n_estimators': 300, 'loss': 'square', 'learning_rate': 1.0}"
      ]
     },
     "execution_count": 133,
     "metadata": {},
     "output_type": "execute_result"
    }
   ],
   "source": [
    "rnd.best_params_"
   ]
  },
  {
   "cell_type": "code",
   "execution_count": 134,
   "id": "151c7daa",
   "metadata": {},
   "outputs": [
    {
     "data": {
      "text/plain": [
       "0.8142105568657086"
      ]
     },
     "execution_count": 134,
     "metadata": {},
     "output_type": "execute_result"
    }
   ],
   "source": [
    "rnd.best_score_"
   ]
  },
  {
   "cell_type": "markdown",
   "id": "11902152",
   "metadata": {},
   "source": [
    "### Gradient Boosting"
   ]
  },
  {
   "cell_type": "code",
   "execution_count": 135,
   "id": "43528e35",
   "metadata": {},
   "outputs": [],
   "source": [
    "from sklearn.ensemble import GradientBoostingRegressor"
   ]
  },
  {
   "cell_type": "code",
   "execution_count": 136,
   "id": "d16e11e6",
   "metadata": {},
   "outputs": [],
   "source": [
    "gbR=GradientBoostingRegressor()"
   ]
  },
  {
   "cell_type": "code",
   "execution_count": 137,
   "id": "7e09a92c",
   "metadata": {},
   "outputs": [
    {
     "data": {
      "text/plain": [
       "GradientBoostingRegressor()"
      ]
     },
     "execution_count": 137,
     "metadata": {},
     "output_type": "execute_result"
    }
   ],
   "source": [
    "gbR.fit(X_train,y_train)"
   ]
  },
  {
   "cell_type": "code",
   "execution_count": 138,
   "id": "0440d3ba",
   "metadata": {},
   "outputs": [
    {
     "data": {
      "text/plain": [
       "{'alpha': 0.9,\n",
       " 'ccp_alpha': 0.0,\n",
       " 'criterion': 'friedman_mse',\n",
       " 'init': None,\n",
       " 'learning_rate': 0.1,\n",
       " 'loss': 'squared_error',\n",
       " 'max_depth': 3,\n",
       " 'max_features': None,\n",
       " 'max_leaf_nodes': None,\n",
       " 'min_impurity_decrease': 0.0,\n",
       " 'min_samples_leaf': 1,\n",
       " 'min_samples_split': 2,\n",
       " 'min_weight_fraction_leaf': 0.0,\n",
       " 'n_estimators': 100,\n",
       " 'n_iter_no_change': None,\n",
       " 'random_state': None,\n",
       " 'subsample': 1.0,\n",
       " 'tol': 0.0001,\n",
       " 'validation_fraction': 0.1,\n",
       " 'verbose': 0,\n",
       " 'warm_start': False}"
      ]
     },
     "execution_count": 138,
     "metadata": {},
     "output_type": "execute_result"
    }
   ],
   "source": [
    "gbR.get_params()"
   ]
  },
  {
   "cell_type": "code",
   "execution_count": 139,
   "id": "d69d709b",
   "metadata": {},
   "outputs": [],
   "source": [
    "y_predict=gbR.predict(X_test)"
   ]
  },
  {
   "cell_type": "code",
   "execution_count": 140,
   "id": "fd6e4ade",
   "metadata": {},
   "outputs": [
    {
     "data": {
      "text/plain": [
       "0.8710703030955962"
      ]
     },
     "execution_count": 140,
     "metadata": {},
     "output_type": "execute_result"
    }
   ],
   "source": [
    "r2_score(y_pred,y_test)"
   ]
  },
  {
   "cell_type": "markdown",
   "id": "52e96195",
   "metadata": {},
   "source": [
    "### Applying Grid Search CV in Graident Boosting"
   ]
  },
  {
   "cell_type": "code",
   "execution_count": 141,
   "id": "8c22e64d",
   "metadata": {},
   "outputs": [],
   "source": [
    "params={\n",
    "    'loss':['squared_error','absolute_error','huber','quantile'],\n",
    "    'learning_rate':[0.1,0.3,0.5,0.7,1.0],\n",
    "    'n_estimators':[100,300,500],\n",
    "    'criterion':['friedman_mse','squared_error'],\n",
    "    'max_features':['sqrt','log2']\n",
    "}"
   ]
  },
  {
   "cell_type": "code",
   "execution_count": 142,
   "id": "440eafb6",
   "metadata": {},
   "outputs": [],
   "source": [
    "grd=GridSearchCV(gbR,param_grid=params,cv=5)"
   ]
  },
  {
   "cell_type": "code",
   "execution_count": 143,
   "id": "f6f20701",
   "metadata": {},
   "outputs": [
    {
     "data": {
      "text/plain": [
       "GridSearchCV(cv=5, estimator=GradientBoostingRegressor(),\n",
       "             param_grid={'criterion': ['friedman_mse', 'squared_error'],\n",
       "                         'learning_rate': [0.1, 0.3, 0.5, 0.7, 1.0],\n",
       "                         'loss': ['squared_error', 'absolute_error', 'huber',\n",
       "                                  'quantile'],\n",
       "                         'max_features': ['sqrt', 'log2'],\n",
       "                         'n_estimators': [100, 300, 500]})"
      ]
     },
     "execution_count": 143,
     "metadata": {},
     "output_type": "execute_result"
    }
   ],
   "source": [
    "grd.fit(X_train,y_train)"
   ]
  },
  {
   "cell_type": "code",
   "execution_count": 144,
   "id": "ac8fe4c4",
   "metadata": {},
   "outputs": [
    {
     "data": {
      "text/plain": [
       "{'criterion': 'squared_error',\n",
       " 'learning_rate': 0.3,\n",
       " 'loss': 'squared_error',\n",
       " 'max_features': 'log2',\n",
       " 'n_estimators': 500}"
      ]
     },
     "execution_count": 144,
     "metadata": {},
     "output_type": "execute_result"
    }
   ],
   "source": [
    "grd.best_params_"
   ]
  },
  {
   "cell_type": "code",
   "execution_count": 145,
   "id": "50c420cf",
   "metadata": {},
   "outputs": [
    {
     "data": {
      "text/plain": [
       "0.8827203549686585"
      ]
     },
     "execution_count": 145,
     "metadata": {},
     "output_type": "execute_result"
    }
   ],
   "source": [
    "grd.best_score_"
   ]
  },
  {
   "cell_type": "markdown",
   "id": "dac418d7",
   "metadata": {},
   "source": [
    "### Applying Randomized Search CV in Graident Boosting"
   ]
  },
  {
   "cell_type": "code",
   "execution_count": 146,
   "id": "cf2815b9",
   "metadata": {},
   "outputs": [],
   "source": [
    "rnd=RandomizedSearchCV(gbR,param_distributions=params,cv=5)"
   ]
  },
  {
   "cell_type": "code",
   "execution_count": 147,
   "id": "52d0651c",
   "metadata": {},
   "outputs": [
    {
     "data": {
      "text/plain": [
       "RandomizedSearchCV(cv=5, estimator=GradientBoostingRegressor(),\n",
       "                   param_distributions={'criterion': ['friedman_mse',\n",
       "                                                      'squared_error'],\n",
       "                                        'learning_rate': [0.1, 0.3, 0.5, 0.7,\n",
       "                                                          1.0],\n",
       "                                        'loss': ['squared_error',\n",
       "                                                 'absolute_error', 'huber',\n",
       "                                                 'quantile'],\n",
       "                                        'max_features': ['sqrt', 'log2'],\n",
       "                                        'n_estimators': [100, 300, 500]})"
      ]
     },
     "execution_count": 147,
     "metadata": {},
     "output_type": "execute_result"
    }
   ],
   "source": [
    "rnd.fit(X_train,y_train)"
   ]
  },
  {
   "cell_type": "code",
   "execution_count": 148,
   "id": "13f20971",
   "metadata": {},
   "outputs": [
    {
     "data": {
      "text/plain": [
       "{'n_estimators': 500,\n",
       " 'max_features': 'sqrt',\n",
       " 'loss': 'absolute_error',\n",
       " 'learning_rate': 0.1,\n",
       " 'criterion': 'friedman_mse'}"
      ]
     },
     "execution_count": 148,
     "metadata": {},
     "output_type": "execute_result"
    }
   ],
   "source": [
    "rnd.best_params_"
   ]
  },
  {
   "cell_type": "code",
   "execution_count": 149,
   "id": "313cd3d5",
   "metadata": {},
   "outputs": [
    {
     "data": {
      "text/plain": [
       "0.7729749959327423"
      ]
     },
     "execution_count": 149,
     "metadata": {},
     "output_type": "execute_result"
    }
   ],
   "source": [
    "rnd.best_score_"
   ]
  },
  {
   "cell_type": "markdown",
   "id": "9db0f079",
   "metadata": {},
   "source": [
    "## XGBoost"
   ]
  },
  {
   "cell_type": "code",
   "execution_count": 150,
   "id": "a95225e1",
   "metadata": {},
   "outputs": [],
   "source": [
    "import xgboost as xgb"
   ]
  },
  {
   "cell_type": "code",
   "execution_count": 154,
   "id": "0b4fe334",
   "metadata": {},
   "outputs": [],
   "source": [
    "xgbR=xgb.XGBRegressor()"
   ]
  },
  {
   "cell_type": "code",
   "execution_count": 155,
   "id": "d11b43b8",
   "metadata": {},
   "outputs": [
    {
     "data": {
      "text/plain": [
       "XGBRegressor(base_score=0.5, booster='gbtree', callbacks=None,\n",
       "             colsample_bylevel=1, colsample_bynode=1, colsample_bytree=1,\n",
       "             early_stopping_rounds=None, enable_categorical=False,\n",
       "             eval_metric=None, feature_types=None, gamma=0, gpu_id=-1,\n",
       "             grow_policy='depthwise', importance_type=None,\n",
       "             interaction_constraints='', learning_rate=0.300000012, max_bin=256,\n",
       "             max_cat_threshold=64, max_cat_to_onehot=4, max_delta_step=0,\n",
       "             max_depth=6, max_leaves=0, min_child_weight=1, missing=nan,\n",
       "             monotone_constraints='()', n_estimators=100, n_jobs=0,\n",
       "             num_parallel_tree=1, predictor='auto', random_state=0, ...)"
      ]
     },
     "execution_count": 155,
     "metadata": {},
     "output_type": "execute_result"
    }
   ],
   "source": [
    "xgbR.fit(X_train,y_train)"
   ]
  },
  {
   "cell_type": "code",
   "execution_count": 157,
   "id": "8341f208",
   "metadata": {},
   "outputs": [],
   "source": [
    "y_predict=xgbR.predict(X_test)"
   ]
  },
  {
   "cell_type": "code",
   "execution_count": 158,
   "id": "478875ef",
   "metadata": {},
   "outputs": [
    {
     "data": {
      "text/plain": [
       "0.8710703030955962"
      ]
     },
     "execution_count": 158,
     "metadata": {},
     "output_type": "execute_result"
    }
   ],
   "source": [
    "r2_score(y_pred,y_test)"
   ]
  }
 ],
 "metadata": {
  "kernelspec": {
   "display_name": "Python 3 (ipykernel)",
   "language": "python",
   "name": "python3"
  },
  "language_info": {
   "codemirror_mode": {
    "name": "ipython",
    "version": 3
   },
   "file_extension": ".py",
   "mimetype": "text/x-python",
   "name": "python",
   "nbconvert_exporter": "python",
   "pygments_lexer": "ipython3",
   "version": "3.9.12"
  }
 },
 "nbformat": 4,
 "nbformat_minor": 5
}
